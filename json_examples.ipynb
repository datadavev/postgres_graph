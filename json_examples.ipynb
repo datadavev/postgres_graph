{
 "cells": [
  {
   "cell_type": "markdown",
   "metadata": {},
   "source": [
    "Working with JSON in sqlite and postgres.\n",
    "\n",
    "1. Working with JSON array elements\n",
    "\n",
    "1.1 List elements in a JSON array"
   ]
  },
  {
   "cell_type": "code",
   "execution_count": null,
   "metadata": {
    "vscode": {
     "languageId": "plaintext"
    }
   },
   "outputs": [],
   "source": [
    "#sqlite\n",
    "import sqlite\n",
    "\n"
   ]
  }
 ],
 "metadata": {
  "language_info": {
   "name": "python"
  },
  "orig_nbformat": 4
 },
 "nbformat": 4,
 "nbformat_minor": 2
}
