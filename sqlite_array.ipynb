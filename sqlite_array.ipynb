{
 "cells": [
  {
   "cell_type": "markdown",
   "metadata": {},
   "source": [
    "There is an array extension for sqlite that adds support for indexed one-dimensional arrays. It is included in the [sqllean](https://github.com/nalgeon/sqlean) bundle.\n",
    "\n",
    "The array extension is described at https://github.com/nalgeon/sqlean/issues/27#issuecomment-1004109889\n",
    "\n",
    "Spatialite is also available on mac, e.g.:\n",
    "```\n",
    "brew install lib_spatialite\n",
    "sqlite3\n",
    ".load /usr/local/lib/mod_spatialite.dylib\n",
    "create table test(id int, geom geometry);\n",
    "insert into test(id, geom) values (1, geomfromtext('POINT(0 0)'));\n",
    "select x(geom) from test;\n",
    "0.0\n",
    "```"
   ]
  },
  {
   "cell_type": "code",
   "execution_count": 4,
   "metadata": {},
   "outputs": [
    {
     "name": "stdout",
     "output_type": "stream",
     "text": [
      "(3,)\n"
     ]
    }
   ],
   "source": [
    "# using sqlaclchemy\n",
    "\n",
    "import sqlalchemy\n",
    "\n",
    "engine = sqlalchemy.create_engine(\"sqlite:///:memory:\")\n",
    "\n",
    "@sqlalchemy.event.listens_for(engine, \"connect\")\n",
    "def receive_connect(connection, _):\n",
    "    connection.enable_load_extension(True)\n",
    "    connection.execute(\"SELECT load_extension('/Users/vieglais/.local/share/sqlean/array');\")\n",
    "    connection.enable_load_extension(False)\n",
    "\n",
    "with engine.connect() as sess:    \n",
    "    sess.execute(sqlalchemy.text(\"create table data(arr blob);\"))\n",
    "    sess.execute(sqlalchemy.text(\"insert into data(arr) values (array(11, 12, 13));\"))\n",
    "    for row in sess.execute(sqlalchemy.text(\"select array_length(arr) from data;\")):\n",
    "        print(row)"
   ]
  }
 ],
 "metadata": {
  "kernelspec": {
   "display_name": "gtest",
   "language": "python",
   "name": "python3"
  },
  "language_info": {
   "codemirror_mode": {
    "name": "ipython",
    "version": 3
   },
   "file_extension": ".py",
   "mimetype": "text/x-python",
   "name": "python",
   "nbconvert_exporter": "python",
   "pygments_lexer": "ipython3",
   "version": "3.11.5"
  },
  "orig_nbformat": 4
 },
 "nbformat": 4,
 "nbformat_minor": 2
}
