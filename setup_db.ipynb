{
 "cells": [
  {
   "cell_type": "code",
   "execution_count": 5,
   "metadata": {},
   "outputs": [],
   "source": [
    "import psycopg\n",
    "\n",
    "sql = [\n",
    "\"DROP TABLE IF EXISTS relation;\",\n",
    "\"DROP TABLE IF EXISTS thing;\",\n",
    "\"\"\"CREATE TABLE thing (\n",
    "    id VARCHAR PRIMARY KEY,\n",
    "    thing_type VARCHAR,\n",
    "    name VARCHAR\n",
    ");\"\"\", \n",
    "\"\"\"CREATE TABLE relation (\n",
    "    id int PRIMARY KEY,\n",
    "    thing_a VARCHAR REFERENCES thing(id),\n",
    "    thing_b VARCHAR REFERENCES thing(id),\n",
    "    predicate VARCHAR\n",
    ");\"\"\",\n",
    "\"\"\"INSERT INTO thing VALUES \n",
    "  ('id-01', 'sample', 'Sample 01'),\n",
    "  ('id-02', 'sample', 'Sample 02'),\n",
    "  ('id-03', 'sample', 'Sample 03'),\n",
    "  ('id-04', 'sample', 'Sample 04'),\n",
    "  ('id-05', 'sample', 'Sample 05'),\n",
    "  ('id-06', 'sample', 'Sample 06'),\n",
    "  ('id-07', 'actor', 'User 07'),\n",
    "  ('id-08', 'actor', 'User 08'),\n",
    "  ('id-09', 'actor', 'User 09');\n",
    "\"\"\",\n",
    "\"\"\"INSERT INTO relation VALUES \n",
    "  (0, 'id-01', 'id-07', 'creator'),\n",
    "  (1, 'id-01', 'id-08', 'creator'),\n",
    "  (2, 'id-02', 'id-08', 'creator'),\n",
    "  (3, 'id-03', 'id-09', 'creator'),\n",
    "  (4, 'id-04', 'id-09', 'creator'),\n",
    "  (5, 'id-05', 'id-09', 'creator'),\n",
    "  (6, 'id-06', 'id-09', 'creator'),\n",
    "  (7, 'id-02', 'id-01', 'subsample_of'),\n",
    "  (8, 'id-03', 'id-02', 'subsample_of');\n",
    "\"\"\"\n",
    "]\n",
    "\n",
    "with psycopg.connect(\"dbname=thingtest user=vieglais\") as cn:\n",
    "    with cn.cursor() as csr:\n",
    "        for s in sql:\n",
    "            csr.execute(s)\n",
    "            cn.commit()\n",
    "\n",
    "    "
   ]
  }
 ],
 "metadata": {
  "kernelspec": {
   "display_name": "gtest",
   "language": "python",
   "name": "python3"
  },
  "language_info": {
   "codemirror_mode": {
    "name": "ipython",
    "version": 3
   },
   "file_extension": ".py",
   "mimetype": "text/x-python",
   "name": "python",
   "nbconvert_exporter": "python",
   "pygments_lexer": "ipython3",
   "version": "3.11.4"
  },
  "orig_nbformat": 4
 },
 "nbformat": 4,
 "nbformat_minor": 2
}
